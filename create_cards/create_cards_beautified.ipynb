{
 "cells": [
  {
   "cell_type": "code",
   "execution_count": 38,
   "metadata": {},
   "outputs": [],
   "source": [
    "import os\n",
    "import numpy as np\n",
    "from numpy import pi as pi\n",
    "from PIL import Image, ImageDraw, ImageFont, ImageOps\n",
    "\n",
    "from funcs3 import resize_images, get_positions, AdjustYPos, create_card\n",
    "import consts"
   ]
  },
  {
   "cell_type": "code",
   "execution_count": 39,
   "metadata": {},
   "outputs": [
    {
     "data": {
      "text/plain": [
       "65.6957087126138"
      ]
     },
     "execution_count": 39,
     "metadata": {},
     "output_type": "execute_result"
    }
   ],
   "source": [
    "# resize color images\n",
    "h_max_smol = resize_images(colors + ['clubs_rgb'], input, width_scaled=True, dim=out_w)\n",
    "h_max_big = resize_images(colors + ['clubs_rgb'], input, width_scaled=True, dim=in_w, smol='big')\n",
    "h_max_ace = resize_images(colors, input, width_scaled=True, dim=ace_img_w, smol='ace')\n",
    "h_max_back = resize_images(colors, input, width_scaled=True, dim=back_w, suffix='mit_rand', smol='back')\n",
    "resize_images(colors, input, width_scaled=True, dim=crown_w, prefix='king')"
   ]
  },
  {
   "cell_type": "code",
   "execution_count": 40,
   "metadata": {},
   "outputs": [
    {
     "ename": "NameError",
     "evalue": "name 'folder' is not defined",
     "output_type": "error",
     "traceback": [
      "\u001b[1;31m---------------------------------------------------------------------------\u001b[0m",
      "\u001b[1;31mNameError\u001b[0m                                 Traceback (most recent call last)",
      "Cell \u001b[1;32mIn[40], line 3\u001b[0m\n\u001b[0;32m      1\u001b[0m \u001b[39mfor\u001b[39;00m color \u001b[39min\u001b[39;00m colors:\n\u001b[0;32m      2\u001b[0m     \u001b[39mfor\u001b[39;00m card \u001b[39min\u001b[39;00m cards:\n\u001b[1;32m----> 3\u001b[0m         create_card(color, card)\n",
      "File \u001b[1;32mc:\\Projects\\BASS\\create_cards\\funcs3.py:6\u001b[0m, in \u001b[0;36mcreate_card\u001b[1;34m(color, number)\u001b[0m\n\u001b[0;32m      4\u001b[0m \u001b[39mdef\u001b[39;00m \u001b[39mcreate_card\u001b[39m(color, number):\n\u001b[1;32m----> 6\u001b[0m     color_out \u001b[39m=\u001b[39m Image\u001b[39m.\u001b[39mopen(folder \u001b[39m+\u001b[39m color \u001b[39m+\u001b[39m\u001b[39m'\u001b[39m\u001b[39m_smol.png\u001b[39m\u001b[39m'\u001b[39m)\n\u001b[0;32m      7\u001b[0m     color_in \u001b[39m=\u001b[39m Image\u001b[39m.\u001b[39mopen(folder \u001b[39m+\u001b[39m color \u001b[39m+\u001b[39m\u001b[39m'\u001b[39m\u001b[39m_big.png\u001b[39m\u001b[39m'\u001b[39m)\n\u001b[0;32m      9\u001b[0m     sym_tl \u001b[39m=\u001b[39m (out_margin, out_margin \u001b[39m+\u001b[39m out_h_txt)\n",
      "\u001b[1;31mNameError\u001b[0m: name 'folder' is not defined"
     ]
    }
   ],
   "source": [
    "for color in colors:\n",
    "    for card in cards:\n",
    "        create_card(color, card)"
   ]
  },
  {
   "cell_type": "code",
   "execution_count": null,
   "metadata": {},
   "outputs": [],
   "source": []
  }
 ],
 "metadata": {
  "kernelspec": {
   "display_name": "Python 3",
   "language": "python",
   "name": "python3"
  },
  "language_info": {
   "codemirror_mode": {
    "name": "ipython",
    "version": 3
   },
   "file_extension": ".py",
   "mimetype": "text/x-python",
   "name": "python",
   "nbconvert_exporter": "python",
   "pygments_lexer": "ipython3",
   "version": "3.10.11"
  },
  "orig_nbformat": 4
 },
 "nbformat": 4,
 "nbformat_minor": 2
}
